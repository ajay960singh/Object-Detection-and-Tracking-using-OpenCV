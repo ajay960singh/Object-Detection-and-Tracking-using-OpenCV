{
 "cells": [
  {
   "cell_type": "code",
   "execution_count": 1,
   "metadata": {},
   "outputs": [],
   "source": [
    "# import the necessary packages\n",
    "import time\n",
    "import cv2\n",
    "import os\n",
    "import numpy as np\n",
    "import matplotlib.pyplot as plt"
   ]
  },
  {
   "cell_type": "markdown",
   "metadata": {},
   "source": [
    "## Position of ball"
   ]
  },
  {
   "cell_type": "markdown",
   "metadata": {},
   "source": [
    "We're given 15 frames of a batter hitting the baseball and we have to programatically find the positions of the baseball in these different frames. It can be done in a few steps:\n",
    "\n",
    "1. Background Subtraction :  Subtract the previous frame from the current frame to get the moving pixels in the current frame. In our case, objects in motion would mainly be the body of the hitter, the bat and the baseball.\n",
    "2. Hough Circle : Once, we have the areas of interest, then we perfom `HoughCircles` on these regions to look for circular shaped objects (baseball in our case).\n",
    "3. Filter : In some cases, `HoughCircles` outputs false positives for a baseball at the bottom of the bat, which is also circular. This can be filtered out in a number of ways- by using greyscale intensities or positions. In our case, we use positions, i.e., we introduced a variable `leftmost`, which represents the leftmost cirle and assumes that the ball is always travelling in the left direction and any detection to the right of this variable is ignored. This gives the correct location for the baseball."
   ]
  },
  {
   "cell_type": "markdown",
   "metadata": {},
   "source": [
    "Step 1 : Perform Background Subtraction"
   ]
  },
  {
   "cell_type": "code",
   "execution_count": 2,
   "metadata": {},
   "outputs": [],
   "source": [
    "seg_imgs = []\n",
    "firstFrame = None\n",
    "for i in range(1,16):\n",
    "    \n",
    "    img_file = 'images/IMG' + str(i) + '.bmp'\n",
    "    # read the image\n",
    "    img = cv2.imread(img_file)\n",
    "    # convert to greyscale\n",
    "    gray_ = cv2.cvtColor(img, cv2.COLOR_BGR2GRAY)\n",
    "    # Remove the noise\n",
    "    gray = cv2.GaussianBlur(gray_, (15, 15), 0)\n",
    "\n",
    "    # if the first frame is None, initialize it\n",
    "    if firstFrame is None:\n",
    "        firstFrame = gray\n",
    "        continue\n",
    "        \n",
    "    # compute the absolute difference between the current frame and first frame\n",
    "    frameDelta = cv2.absdiff(firstFrame, gray)\n",
    "    \n",
    "    # Create a binary representation\n",
    "    thresh = cv2.threshold(frameDelta, 25, 255, cv2.THRESH_BINARY)[1]\n",
    "    \n",
    "    # dilate the thresholded image to fill in holes\n",
    "    thresh = cv2.dilate(thresh, None, iterations=2)\n",
    "\n",
    "    # Get the image\n",
    "    seg = thresh*gray_\n",
    "\n",
    "    # Set the new frame to the previous one\n",
    "    firstFrame = gray\n",
    "    \n",
    "    seg_imgs.append(seg)\n"
   ]
  },
  {
   "cell_type": "markdown",
   "metadata": {},
   "source": [
    "Step 2 & 3: Apply `Hough Transform` to the subtracted image to get circular shaped objects (baseball in our case)"
   ]
  },
  {
   "cell_type": "code",
   "execution_count": 3,
   "metadata": {},
   "outputs": [
    {
     "name": "stdout",
     "output_type": "stream",
     "text": [
      "position of ball in 2 image : [551, 802]\n",
      "position of ball in 3 image : [538, 803]\n",
      "position of ball in 4 image : [510, 799]\n",
      "position of ball in 5 image : [481, 792]\n",
      "position of ball in 6 image : [450, 784]\n",
      "position of ball in 7 image : [417, 778]\n",
      "position of ball in 8 image : [379, 769]\n",
      "position of ball in 9 image : [341, 761]\n",
      "position of ball in 10 image : [296, 747]\n",
      "position of ball in 11 image : [253, 742]\n",
      "position of ball in 12 image : [202, 732]\n",
      "position of ball in 13 image : [149, 723]\n",
      "position of ball in 14 image : [93, 707]\n",
      "position of ball in 15 image : [30, 695]\n"
     ]
    }
   ],
   "source": [
    "center = []\n",
    "leftmost = 1280\n",
    "for j, seg1 in enumerate(seg_imgs):\n",
    "    bgr2gray = seg1.copy()\n",
    "    \n",
    "    # define maxradius depending on the frame as ball gets bigger in radius in later frames\n",
    "    if j >6:\n",
    "        maxRadius = 23\n",
    "    else:\n",
    "        maxRadius = 19\n",
    "        \n",
    "    #apply houghcircles\n",
    "    circle = cv2.HoughCircles(bgr2gray, cv2.HOUGH_GRADIENT, 1, 30, param1 = 100, param2 = 14, minRadius = 13, maxRadius = maxRadius)\n",
    "    circles = np.uint(circle)\n",
    "    \n",
    "    # Loop through the circles\n",
    "    for\ti in circles[0,:]:\n",
    "        \n",
    "        # only consider points to the left of the center of baseball in previous frame\n",
    "        if i[0]<leftmost-10:\n",
    "            #\tdraw\tthe\touter\tcircle\n",
    "            cv2.circle(bgr2gray,(i[0],i[1]),i[2],(0,255,0),1)\n",
    "            #\tdraw\tthe\tcenter\tof\tthe\tcircle\n",
    "            cv2.circle(bgr2gray,(i[0],i[1]),2,(0,0,255),3)\n",
    "            center.append([i[0],i[1]])\n",
    "            print('position of ball in {} image : {}'.format(j+2, [i[0],i[1]]))\n",
    "\n",
    "    # update the leftmost point after evry frame                \n",
    "    leftmost = np.sort(np.array(center), axis=0)[0][0]\n"
   ]
  },
  {
   "cell_type": "markdown",
   "metadata": {},
   "source": [
    "Write the results to `results/` folder. Each image shows the center of the baseball."
   ]
  },
  {
   "cell_type": "code",
   "execution_count": 4,
   "metadata": {},
   "outputs": [],
   "source": [
    "# Write the results \n",
    "for j in range(2,16):\n",
    "    img_file = 'IMG' + str(j) + '.bmp'\n",
    "    img = cv2.imread(img_file)\n",
    "    cv2.circle(img,(center[j-2][0],center[j-2][1]),2,(0,0,255),3)\n",
    "    cv2.imwrite('results/IMG' + str(j) + 'result.jpg', img)"
   ]
  },
  {
   "cell_type": "markdown",
   "metadata": {},
   "source": [
    "## Velocity of ball"
   ]
  },
  {
   "cell_type": "markdown",
   "metadata": {},
   "source": [
    "Calculate velocity by dividing the Euclidean Distance between points in subsequent frames with the time elpased between frames.\n",
    "\n",
    "Euclidean distance is calculated using \n",
    "\n",
    "<center>$d(p,q) = \\sqrt{(p1-q1)^2 + (p2-q3)^2 + ... + (pn-qn)^2}$</center>\n",
    "<center>where p and q are n-dimesional points of the same object in subsequent frames</center>\n",
    "\n",
    "<br>\n",
    "For time elapsed, we take the reciprocal for `fps`, which is 240 in our case\n",
    "\n",
    "<center>$t = (1/fps)$</center>\n",
    "\n",
    "<br>\n",
    "Finally, velocity is calculated\n",
    "\n",
    "<center>$vel = d(p,q)/t$</center>"
   ]
  },
  {
   "cell_type": "code",
   "execution_count": 5,
   "metadata": {},
   "outputs": [
    {
     "name": "stdout",
     "output_type": "stream",
     "text": [
      "velocity of ball in 3 image : 15.02 mm/s\n",
      "velocity of ball in 4 image : 32.583 mm/s\n",
      "velocity of ball in 5 image : 34.367 mm/s\n",
      "velocity of ball in 6 image : 36.882 mm/s\n",
      "velocity of ball in 7 image : 38.639 mm/s\n",
      "velocity of ball in 8 image : 44.987 mm/s\n",
      "velocity of ball in 9 image : 44.736 mm/s\n",
      "velocity of ball in 10 image : 54.291 mm/s\n",
      "velocity of ball in 11 image : 49.87 mm/s\n",
      "velocity of ball in 12 image : 59.871 mm/s\n",
      "velocity of ball in 13 image : 61.93 mm/s\n",
      "velocity of ball in 14 image : 67.093 mm/s\n",
      "velocity of ball in 15 image : 73.881 mm/s\n"
     ]
    }
   ],
   "source": [
    "# Get the velocity \n",
    "velocity = []\n",
    "# convert fps so spf \n",
    "delta_t = (1/240)\n",
    "for i in range(1,len(center)):\n",
    "\n",
    "    # Calculate Euclidean distance between current and previous frame\n",
    "    dist = np.sqrt((np.int(center[i][0])- np.int(center[i-1][0]))**2 + \n",
    "                   (np.int(center[i][1])- np.int(center[i-1][1]))**2)\n",
    "\n",
    "    # Convert pixel to mm\n",
    "    pix2mm = dist*0.0048    \n",
    "    \n",
    "    # Calculate velocity\n",
    "    vel = np.round((pix2mm/delta_t),3)\n",
    "    \n",
    "    velocity.append(vel)\n",
    "    print('velocity of ball in {} image : {} mm/s'.format(i+2, vel))\n",
    "    \n",
    "    "
   ]
  },
  {
   "cell_type": "markdown",
   "metadata": {},
   "source": [
    "## Alternatives"
   ]
  },
  {
   "cell_type": "markdown",
   "metadata": {},
   "source": [
    "<h>**Lucas-Kanade Method**</h>\n",
    " \n",
    " I tried to use Sparse Optical flow to track movement of baseball. I performed the following steps:\n",
    " \n",
    " 1. Used `HoughCircles` on the first frame to get a few circular objects (baseball being one of them)\n",
    " 2. For the next frame, I used `cv2.calcOpticalFlowPyrLK` to get the optical flow of the selected circular object and only kept the ones with new points(gives the baseball location).\n",
    " 3. Repeated step 2 for all the subsequent frames\n",
    " \n",
    "Problem : After frame 9, it loses track of the baseball and gives wrong predictions.<br>\n",
    "Reason : After frame 9, the motion gets bigger from camera perspective, i.e., the distance between baseball in subsequent frames increases.<br>\n",
    "Solutions tried : Choose pyramid structures with Lucas-Kanade and use larger window size.\n",
    "\n",
    "I was still unable to improve the predictions with the solutions tried so I gave up on this approach."
   ]
  },
  {
   "cell_type": "code",
   "execution_count": 6,
   "metadata": {},
   "outputs": [
    {
     "name": "stdout",
     "output_type": "stream",
     "text": [
      "2 frame\n",
      "position of ball: [551, 802]\n",
      "\n",
      "\n",
      "3 frame\n",
      "position of ball: [538, 803]\n",
      "velocity of ball : 15.02 mm/s\n",
      "\n",
      "\n",
      "4 frame\n",
      "position of ball: [510, 799]\n",
      "velocity of ball : 32.583 mm/s\n",
      "\n",
      "\n",
      "5 frame\n",
      "position of ball: [481, 792]\n",
      "velocity of ball : 34.367 mm/s\n",
      "\n",
      "\n",
      "6 frame\n",
      "position of ball: [450, 784]\n",
      "velocity of ball : 36.882 mm/s\n",
      "\n",
      "\n",
      "7 frame\n",
      "position of ball: [417, 778]\n",
      "velocity of ball : 38.639 mm/s\n",
      "\n",
      "\n",
      "8 frame\n",
      "position of ball: [379, 769]\n",
      "velocity of ball : 44.987 mm/s\n",
      "\n",
      "\n",
      "9 frame\n",
      "position of ball: [341, 761]\n",
      "velocity of ball : 44.736 mm/s\n",
      "\n",
      "\n",
      "10 frame\n",
      "position of ball: [296, 747]\n",
      "velocity of ball : 54.291 mm/s\n",
      "\n",
      "\n",
      "11 frame\n",
      "position of ball: [253, 742]\n",
      "velocity of ball : 49.87 mm/s\n",
      "\n",
      "\n",
      "12 frame\n",
      "position of ball: [202, 732]\n",
      "velocity of ball : 59.871 mm/s\n",
      "\n",
      "\n",
      "13 frame\n",
      "position of ball: [149, 723]\n",
      "velocity of ball : 61.93 mm/s\n",
      "\n",
      "\n",
      "14 frame\n",
      "position of ball: [93, 707]\n",
      "velocity of ball : 67.093 mm/s\n",
      "\n",
      "\n",
      "15 frame\n",
      "position of ball: [30, 695]\n",
      "velocity of ball : 73.881 mm/s\n",
      "\n",
      "\n"
     ]
    }
   ],
   "source": [
    "# Print the Final values\n",
    "\n",
    "for i, c in enumerate(center):\n",
    "    \n",
    "    print('{} frame'.format(i+2))\n",
    "    print('position of ball: {}'.format(c))\n",
    "    if i>0:\n",
    "        print('velocity of ball : {} mm/s'.format(velocity[i-1]))\n",
    "    print('\\n')"
   ]
  }
 ],
 "metadata": {
  "kernelspec": {
   "display_name": "Python 3",
   "language": "python",
   "name": "python3"
  },
  "language_info": {
   "codemirror_mode": {
    "name": "ipython",
    "version": 3
   },
   "file_extension": ".py",
   "mimetype": "text/x-python",
   "name": "python",
   "nbconvert_exporter": "python",
   "pygments_lexer": "ipython3",
   "version": "3.6.4"
  }
 },
 "nbformat": 4,
 "nbformat_minor": 2
}
